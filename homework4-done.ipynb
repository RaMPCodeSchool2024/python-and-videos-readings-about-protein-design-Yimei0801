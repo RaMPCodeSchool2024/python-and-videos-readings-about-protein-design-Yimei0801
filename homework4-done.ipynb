{
  "cells": [
    {
      "cell_type": "markdown",
      "metadata": {
        "id": "Ktm86A3d6K2Q"
      },
      "source": [
        "First, download this notebook and upload it to your Google Drive. Once it's in your Google Drive, you can open it with Google Colab. Write your code in Google Colab. When you're done, download the notebook from Google Colab and upload it to GitHub. This is exactly what you did in the previous assignment."
      ]
    },
    {
      "cell_type": "markdown",
      "metadata": {
        "id": "oRJ4tUGT6K2Q"
      },
      "source": [
        "# HW4 : Even More Python Exercises!\n",
        "\n",
        "Hi everyone! Welcome to the fourth homework assignment. This assignment contains more Python exercises – shocking(!) You will practice with basic plotting and writing many functions, and it will be a whole lot of fun. Let's get started!"
      ]
    },
    {
      "cell_type": "markdown",
      "metadata": {
        "id": "F6YgE93M6K2R"
      },
      "source": [
        "## Part 0: Plotting\n",
        "\n",
        "In this section, you will practice plotting using the `matplotlib` library. You will also practice using `numpy` arrays.\n",
        "\n",
        "### Problem 0: Basic Plotting\n",
        "\n",
        "In this problem, you will plot the function f(x) = x^2 for x in the range [-10, 10].\n",
        "\n",
        "First, import the `matplotlib.pyplot` library as `plt`. Then, use the `linspace` function from the `numpy` library to create an array of 100 points between -10 and 10. Finally, plot the function f(x) = x^2 for x in the range [-10, 10]."
      ]
    },
    {
      "cell_type": "code",
      "execution_count": 3,
      "metadata": {
        "colab": {
          "base_uri": "https://localhost:8080/",
          "height": 472
        },
        "id": "GP_rW76D6K2R",
        "outputId": "02605d2e-7869-46d1-90b9-611b58027c5d"
      },
      "outputs": [
        {
          "output_type": "display_data",
          "data": {
            "text/plain": [
              "<Figure size 640x480 with 1 Axes>"
            ],
            "image/png": "[encoded data removed]"
          },
          "metadata": {}
        }
      ],
      "source": [
        "import matplotlib.pyplot as plt\n",
        "import numpy as np\n",
        "\n",
        "# Create an array of 100 points between -10 and 10 as x\n",
        "x=np.linspace(-10, 10, 100)\n",
        "\n",
        "# Define the function f(x) = x^2\n",
        "y=x**2\n",
        "\n",
        "# Plot the function f(x) = x^2 for x in the range [-10, 10]\n",
        "plt.plot(x, y)\n",
        "plt.xlabel('x')\n",
        "plt.ylabel('f(x)')\n",
        "plt.title('Plot of f(x) = x^2')\n",
        "plt.show()"
      ]
    },
    {
      "cell_type": "markdown",
      "metadata": {
        "id": "E-SYZMym6K2R"
      },
      "source": [
        "## Part 1: Functions\n",
        "\n",
        "Functions are a great way to organize computations. They allow you to break down a large problem into smaller, more manageable pieces. Functions also allow you to reuse code. If you find yourself writing the same code over and over again, you should consider writing a function.\n",
        "\n",
        "One fun thing about functions is that they can call themselves (recursion) and other functions. Recursion is a powerful technique that allows you to solve complex problems. In this section, you will practice writing recursive functions."
      ]
    },
    {
      "cell_type": "markdown",
      "metadata": {
        "id": "Hf4J8O8T6K2R"
      },
      "source": [
        "### Problem 1: Palindrome\n",
        "\n",
        "Write a function called `is_palindrome` that takes in a string `s` and returns `True` if `s` is a palindrome and `False` otherwise.\n",
        "\n",
        "A palindrome is a string that is the same forwards and backwards. For example, \"racecar\" is a palindrome.\n",
        "\n",
        "Your function should be able to call itself to check if the string is a palindrome. You should not use a loop to solve this problem.\n",
        "\n",
        "Once you have your function, call it to check if \"racecar\" is a palindrome. Bonus \"imaginary points\" if you can figure out how to check if \"Racecar\" is a palindrome."
      ]
    },
    {
      "cell_type": "code",
      "execution_count": 4,
      "metadata": {
        "colab": {
          "base_uri": "https://localhost:8080/"
        },
        "id": "GEL_YypS6K2R",
        "outputId": "b35b24f5-c063-441c-8952-06ee45366eab"
      },
      "outputs": [
        {
          "output_type": "stream",
          "name": "stdout",
          "text": [
            "True\n",
            "True\n"
          ]
        }
      ],
      "source": [
        "#define function\n",
        "def is_palindrome(s):\n",
        "    #convert to lowercase\n",
        "    s=s.lower()\n",
        "\n",
        "    #base case\n",
        "    if len(s) <= 1:\n",
        "        return True\n",
        "\n",
        "    #recursive case, check if the first and the last are the same\n",
        "    if s[0] == s[-1]:\n",
        "        #remove the first and the last characters\n",
        "        return is_palindrome(s[1:-1])\n",
        "    else:\n",
        "        return False\n",
        "\n",
        "#call function\n",
        "print(is_palindrome(\"racecar\")) #expect \"True\"\n",
        "\n",
        "# for the bonus one\n",
        "print(is_palindrome(\"Racecar\")) #expect \"True\""
      ]
    },
    {
      "cell_type": "markdown",
      "metadata": {
        "id": "eWcMUUcb6K2R"
      },
      "source": [
        "### Problem 2: Factorial\n",
        "\n",
        "Write a function called `factorial` that takes in an integer `n` and returns the factorial of `n`.\n",
        "\n",
        "The factorial of a number is given by the recurrence relation:\n",
        "n! = n * (n-1)!\n",
        "\n",
        "The base case is 0! = 1.\n",
        "\n",
        "Your function should be able to call itself to compute the factorial of `n`. You should not use a loop to solve this problem.\n",
        "\n",
        "Once you have your function, call it to compute the factorial of 10."
      ]
    },
    {
      "cell_type": "code",
      "execution_count": 6,
      "metadata": {
        "colab": {
          "base_uri": "https://localhost:8080/"
        },
        "id": "XFidc-Fb6K2S",
        "outputId": "f83c58eb-e82a-49e1-cc30-e9d7e8200ff3"
      },
      "outputs": [
        {
          "output_type": "stream",
          "name": "stdout",
          "text": [
            "3628800\n"
          ]
        }
      ],
      "source": [
        "#define function\n",
        "def factorial(n):\n",
        "  n=int(n)\n",
        "  #base case\n",
        "  if n==0:\n",
        "    return 1\n",
        "\n",
        "  #recursive case\n",
        "  else:\n",
        "    return n*factorial(n-1)\n",
        "\n",
        "#call function\n",
        "print(factorial(10))"
      ]
    },
    {
      "cell_type": "markdown",
      "metadata": {
        "id": "UZklUe8m6K2S"
      },
      "source": [
        "### Problem 3: Fibonacci Sequence\n",
        "\n",
        "Write a function called `fibonacci` that takes in an integer `n` and returns the `n`th number in the Fibonacci sequence.\n",
        "\n",
        "The Fibonacci sequence is given by the recurrence relation:\n",
        "F(n) = F(n-1) + F(n-2)\n",
        "\n",
        "The first two numbers in the sequence are 0 and 1. That is, F(0) = 0 and F(1) = 1.\n",
        "\n",
        "Your function should be able to call itself to compute the `n`th number in the sequence. You should not use a loop to solve this problem.\n",
        "\n",
        "**Hint:** You will need to use an `if` statement to handle the base cases (n = 0 and n = 1).\n",
        "\n",
        "Once you have your function, call it to compute the 10th number in the sequence."
      ]
    },
    {
      "cell_type": "code",
      "execution_count": 7,
      "metadata": {
        "colab": {
          "base_uri": "https://localhost:8080/"
        },
        "id": "_zg4vAXX6K2S",
        "outputId": "0c10a8b6-dd68-4269-b8fb-d4fe877820f2"
      },
      "outputs": [
        {
          "output_type": "stream",
          "name": "stdout",
          "text": [
            "55\n"
          ]
        }
      ],
      "source": [
        "#define fucntion\n",
        "def fibonacci(n):\n",
        "  n=int(n)\n",
        "\n",
        "  #base\n",
        "  if n==0:\n",
        "    return 0\n",
        "  elif n==1:\n",
        "    return 1\n",
        "\n",
        "  #recursive\n",
        "  else:\n",
        "    return fibonacci(n-1)+fibonacci(n-2)\n",
        "\n",
        "#call function\n",
        "print(fibonacci(10))"
      ]
    },
    {
      "cell_type": "markdown",
      "metadata": {
        "id": "IwYCNsdW6K2S"
      },
      "source": [
        "### Problem 3.5: Timed Fibonacci\n",
        "\n",
        "In this problem, you will plot the time it takes to compute the `n`th number in the Fibonacci sequence for `n` in the range [0, 30].\n",
        "\n",
        "First, import the `time` library. Then, create an empty list called `times`. Next, use a `for` loop to compute the `n`th number in the Fibonacci sequence for `n` in the range [0, 30]. For each `n`, compute the time it takes to compute the `n`th number in the Fibonacci sequence. Append this time to the `times` list. Finally, plot the time it takes to compute the `n`th number in the Fibonacci sequence for `n` in the range [0, 30].\n",
        "\n",
        "**Hint:** You will need to use the `time.time()` function to compute the time it takes to compute the `n`th number in the Fibonacci sequence. You will also need to use the `append` function to append the time to the `times` list."
      ]
    },
    {
      "cell_type": "code",
      "execution_count": 19,
      "metadata": {
        "colab": {
          "base_uri": "https://localhost:8080/",
          "height": 472
        },
        "id": "ilO0aqnz6K2S",
        "outputId": "5f28bc49-40b7-498c-ade8-85990096104a"
      },
      "outputs": [
        {
          "output_type": "display_data",
          "data": {
            "text/plain": [
              "<Figure size 640x480 with 1 Axes>"
            ],
            "image/png": "[encoded data removed]"
          },
          "metadata": {}
        }
      ],
      "source": [
        "import time\n",
        "import matplotlib.pyplot as plt\n",
        "\n",
        "#define fucntion\n",
        "def fibonacci(n):\n",
        "  n=int(n)\n",
        "\n",
        "  #base\n",
        "  if n <= 1:\n",
        "    return n\n",
        "  #recursive\n",
        "  else:\n",
        "    return fibonacci(n-1)+fibonacci(n-2)\n",
        "\n",
        "  #list to store the computation times\n",
        "  times = []\n",
        "\n",
        "  #compute the time it takes to compute the nth Fibonacci number for n in range [0, 30]\n",
        "  for n in range(31):\n",
        "      start_t=time.time()\n",
        "      fibonacci(n)\n",
        "      end_t=time.time()\n",
        "      times.append(end_t-start_t)\n",
        "\n",
        "#plot time\n",
        "plt.plot(range(31), times)\n",
        "plt.xlabel('n')\n",
        "plt.ylabel('time(s)')\n",
        "plt.title('time for computing fibbonaci(n)')\n",
        "plt.show()\n"
      ]
    }
  ],
  "metadata": {
    "kernelspec": {
      "display_name": "Python 3",
      "language": "python",
      "name": "python3"
    },
    "language_info": {
      "codemirror_mode": {
        "name": "ipython",
        "version": 3
      },
      "file_extension": ".py",
      "mimetype": "text/x-python",
      "name": "python",
      "nbconvert_exporter": "python",
      "pygments_lexer": "ipython3",
      "version": "3.10.6"
    },
    "orig_nbformat": 4,
    "colab": {
      "provenance": []
    }
  },
  "nbformat": 4,
  "nbformat_minor": 0
}